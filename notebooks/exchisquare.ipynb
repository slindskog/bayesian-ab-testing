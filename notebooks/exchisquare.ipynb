{
 "nbformat": 4,
 "nbformat_minor": 0,
 "metadata": {
  "colab": {
   "name": "exchisquare.ipynb",
   "provenance": [],
   "authorship_tag": "ABX9TyNH9xAqm/wxmz3vGoa4XzIx"
  },
  "kernelspec": {
   "name": "python3",
   "display_name": "Python 3"
  }
 },
 "cells": [
  {
   "cell_type": "code",
   "metadata": {
    "id": "cqAHbvFOuAlQ",
    "colab": {
     "base_uri": "https://localhost:8080/"
    },
    "executionInfo": {
     "status": "ok",
     "timestamp": 1608738220452,
     "user_tz": 300,
     "elapsed": 18606,
     "user": {
      "displayName": "Sebastian Lindskog",
      "photoUrl": "https://lh3.googleusercontent.com/a-/AOh14GhyYnTeqHJveHyKWSfut3osyn2YvoKkQXBJDk9W=s64",
      "userId": "08258996105361909584"
     }
    },
    "outputId": "a2064aaa-b4f5-452c-a942-3043743e6e0c"
   },
   "source": [
    "# Mount the drive\n",
    "from google.colab import drive\n",
    "drive.mount('/content/drive')"
   ],
   "execution_count": 1,
   "outputs": [
    {
     "output_type": "stream",
     "text": [
      "Mounted at /content/drive\n"
     ],
     "name": "stdout"
    }
   ]
  },
  {
   "cell_type": "code",
   "metadata": {
    "id": "eJcBEy8ARNFE",
    "executionInfo": {
     "status": "ok",
     "timestamp": 1608738230637,
     "user_tz": 300,
     "elapsed": 962,
     "user": {
      "displayName": "Sebastian Lindskog",
      "photoUrl": "https://lh3.googleusercontent.com/a-/AOh14GhyYnTeqHJveHyKWSfut3osyn2YvoKkQXBJDk9W=s64",
      "userId": "08258996105361909584"
     }
    }
   },
   "source": [
    "import numpy as np\n",
    "import pandas as pd\n",
    "from scipy import stats"
   ],
   "execution_count": 2,
   "outputs": []
  },
  {
   "cell_type": "code",
   "metadata": {
    "id": "Nz-OQH4vFX6g",
    "executionInfo": {
     "status": "ok",
     "timestamp": 1608738257985,
     "user_tz": 300,
     "elapsed": 971,
     "user": {
      "displayName": "Sebastian Lindskog",
      "photoUrl": "https://lh3.googleusercontent.com/a-/AOh14GhyYnTeqHJveHyKWSfut3osyn2YvoKkQXBJDk9W=s64",
      "userId": "08258996105361909584"
     }
    }
   },
   "source": [
    "df = pd.read_csv('/content/drive/My Drive/Colab Notebooks/bayesian_ab_testing/data/advertisement_clicks.csv')"
   ],
   "execution_count": 3,
   "outputs": []
  },
  {
   "cell_type": "code",
   "metadata": {
    "id": "GsNW6C3hRbhL",
    "executionInfo": {
     "status": "ok",
     "timestamp": 1608738299544,
     "user_tz": 300,
     "elapsed": 298,
     "user": {
      "displayName": "Sebastian Lindskog",
      "photoUrl": "https://lh3.googleusercontent.com/a-/AOh14GhyYnTeqHJveHyKWSfut3osyn2YvoKkQXBJDk9W=s64",
      "userId": "08258996105361909584"
     }
    }
   },
   "source": [
    "a = df.loc[df['advertisement_id'] == 'A']['action'].values\r\n",
    "b = df.loc[df['advertisement_id'] == 'B']['action'].values"
   ],
   "execution_count": 6,
   "outputs": []
  },
  {
   "cell_type": "code",
   "metadata": {
    "id": "l8iSykflSh1E",
    "executionInfo": {
     "status": "ok",
     "timestamp": 1608738550530,
     "user_tz": 300,
     "elapsed": 295,
     "user": {
      "displayName": "Sebastian Lindskog",
      "photoUrl": "https://lh3.googleusercontent.com/a-/AOh14GhyYnTeqHJveHyKWSfut3osyn2YvoKkQXBJDk9W=s64",
      "userId": "08258996105361909584"
     }
    }
   },
   "source": [
    "# contingency table\r\n",
    "#        click       no click\r\n",
    "#------------------------------\r\n",
    "# ad A |   a            b\r\n",
    "# ad B |   c            d"
   ],
   "execution_count": 9,
   "outputs": []
  },
  {
   "cell_type": "code",
   "metadata": {
    "id": "ivM_Cw22Rcej",
    "executionInfo": {
     "status": "ok",
     "timestamp": 1608738602228,
     "user_tz": 300,
     "elapsed": 429,
     "user": {
      "displayName": "Sebastian Lindskog",
      "photoUrl": "https://lh3.googleusercontent.com/a-/AOh14GhyYnTeqHJveHyKWSfut3osyn2YvoKkQXBJDk9W=s64",
      "userId": "08258996105361909584"
     }
    }
   },
   "source": [
    "def get_p_value(T):\r\n",
    "    # same as scipy.stats.chi2_contingency(T, correction=False)\r\n",
    "    det = T[0, 0] * T[1, 1] - T[0, 1] * T[1, 0]\r\n",
    "    c2 = float(det) / T[0].sum() * det / T[1].sum() * T.sum() / T[:, 0].sum() / T[:, 1].sum()\r\n",
    "    p = 1 - stats.chi2.cdf(x=c2, df=1)\r\n",
    "    return p "
   ],
   "execution_count": 11,
   "outputs": []
  },
  {
   "cell_type": "code",
   "metadata": {
    "colab": {
     "base_uri": "https://localhost:8080/"
    },
    "id": "bzGTcuV7RmfD",
    "executionInfo": {
     "status": "ok",
     "timestamp": 1608738604185,
     "user_tz": 300,
     "elapsed": 378,
     "user": {
      "displayName": "Sebastian Lindskog",
      "photoUrl": "https://lh3.googleusercontent.com/a-/AOh14GhyYnTeqHJveHyKWSfut3osyn2YvoKkQXBJDk9W=s64",
      "userId": "08258996105361909584"
     }
    },
    "outputId": "56a01881-3f97-49b6-972c-37e6ecd32688"
   },
   "source": [
    "A_clk = a.sum()\r\n",
    "A_noclk = a.size - a.sum()\r\n",
    "B_clk = b.sum()\r\n",
    "B_noclk = b.size - b.sum()\r\n",
    "\r\n",
    "T = np.array([[A_clk, A_noclk], [B_clk, B_noclk]])\r\n",
    "\r\n",
    "print(get_p_value(T))"
   ],
   "execution_count": 12,
   "outputs": [
    {
     "output_type": "stream",
     "text": [
      "0.0013069502732125926\n"
     ],
     "name": "stdout"
    }
   ]
  },
  {
   "cell_type": "code",
   "metadata": {
    "id": "UdrCxEWGSu_L"
   },
   "source": [
    ""
   ],
   "execution_count": null,
   "outputs": []
  }
 ]
}