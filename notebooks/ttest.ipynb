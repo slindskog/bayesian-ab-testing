{
 "nbformat": 4,
 "nbformat_minor": 0,
 "metadata": {
  "colab": {
   "name": "ttest.ipynb",
   "provenance": [],
   "authorship_tag": "ABX9TyOcqH6tHcq8lgyD/LOzFFjk"
  },
  "kernelspec": {
   "name": "python3",
   "display_name": "Python 3"
  }
 },
 "cells": [
  {
   "cell_type": "code",
   "metadata": {
    "id": "FRvP567QE5b9"
   },
   "source": [
    "import numpy as np\n",
    "from scipy import stats"
   ],
   "execution_count": null,
   "outputs": []
  },
  {
   "cell_type": "code",
   "metadata": {
    "id": "__tQqogiE98S"
   },
   "source": [
    "N = 10\n",
    "a = np.random.randn(N) + 2\n",
    "b = np.random.randn(N)"
   ],
   "execution_count": null,
   "outputs": []
  },
  {
   "cell_type": "code",
   "metadata": {
    "colab": {
     "base_uri": "https://localhost:8080/"
    },
    "id": "3RN5o_JHFDa4",
    "executionInfo": {
     "status": "ok",
     "timestamp": 1608735140403,
     "user_tz": 300,
     "elapsed": 303,
     "user": {
      "displayName": "Sebastian Lindskog",
      "photoUrl": "https://lh3.googleusercontent.com/a-/AOh14GhyYnTeqHJveHyKWSfut3osyn2YvoKkQXBJDk9W=s64",
      "userId": "08258996105361909584"
     }
    },
    "outputId": "2d447d97-8dca-4a0b-b536-4c74f6acca5f"
   },
   "source": [
    "var_a = a.var(ddof=1)\n",
    "var_b = b.var(ddof=1)\n",
    "s = np.sqrt((var_a + var_b) / 2)\n",
    "t = (a.mean() - b.mean()) / (s * np.sqrt(2.0 / N))\n",
    "df = 2 * N - 2\n",
    "p = 1 - stats.t.cdf(t, df=df)\n",
    "print(f\"t: {t}, p: {2 * p}\")\n",
    "\n",
    "t2, p2 = stats.ttest_ind(a, b)\n",
    "print(f\"t: {t2}, p: {2 * p}\")\n"
   ],
   "execution_count": null,
   "outputs": [
    {
     "output_type": "stream",
     "text": [
      "t: 4.843566723136699, p: 0.00013040087189408744\n",
      "t: 4.843566723136697, p: 0.00013040087189408744\n"
     ],
     "name": "stdout"
    }
   ]
  },
  {
   "cell_type": "markdown",
   "metadata": {
    "id": "n4XLa9cdFvSx"
   },
   "source": [
    "### $t$-test"
   ]
  },
  {
   "cell_type": "code",
   "metadata": {
    "id": "oS0UCqDcGosT"
   },
   "source": [
    "import pandas as pd"
   ],
   "execution_count": null,
   "outputs": []
  },
  {
   "cell_type": "code",
   "metadata": {
    "id": "cqAHbvFOuAlQ",
    "colab": {
     "base_uri": "https://localhost:8080/"
    },
    "executionInfo": {
     "status": "ok",
     "timestamp": 1608735700857,
     "user_tz": 300,
     "elapsed": 25161,
     "user": {
      "displayName": "Sebastian Lindskog",
      "photoUrl": "https://lh3.googleusercontent.com/a-/AOh14GhyYnTeqHJveHyKWSfut3osyn2YvoKkQXBJDk9W=s64",
      "userId": "08258996105361909584"
     }
    },
    "outputId": "29a79c56-f42c-46de-abeb-d7a547ec5a8d"
   },
   "source": [
    "# Mount the drive\n",
    "from google.colab import drive\n",
    "drive.mount('/content/drive')"
   ],
   "execution_count": null,
   "outputs": [
    {
     "output_type": "stream",
     "text": [
      "Mounted at /content/drive\n"
     ],
     "name": "stdout"
    }
   ]
  },
  {
   "cell_type": "code",
   "metadata": {
    "id": "Nz-OQH4vFX6g"
   },
   "source": [
    "df = pd.read_csv('/content/drive/My Drive/Colab Notebooks/bayesian_ab_testing/data/advertisement_clicks.csv')"
   ],
   "execution_count": null,
   "outputs": []
  },
  {
   "cell_type": "code",
   "metadata": {
    "colab": {
     "base_uri": "https://localhost:8080/",
     "height": 204
    },
    "id": "5GAN0F4FIFvH",
    "executionInfo": {
     "status": "ok",
     "timestamp": 1608735812054,
     "user_tz": 300,
     "elapsed": 381,
     "user": {
      "displayName": "Sebastian Lindskog",
      "photoUrl": "https://lh3.googleusercontent.com/a-/AOh14GhyYnTeqHJveHyKWSfut3osyn2YvoKkQXBJDk9W=s64",
      "userId": "08258996105361909584"
     }
    },
    "outputId": "08baefc2-23ae-4c0b-d13b-d67e05b4f132"
   },
   "source": [
    "df.head()"
   ],
   "execution_count": null,
   "outputs": [
    {
     "output_type": "execute_result",
     "data": {
      "text/html": [
       "<div>\n",
       "<style scoped>\n",
       "    .dataframe tbody tr th:only-of-type {\n",
       "        vertical-align: middle;\n",
       "    }\n",
       "\n",
       "    .dataframe tbody tr th {\n",
       "        vertical-align: top;\n",
       "    }\n",
       "\n",
       "    .dataframe thead th {\n",
       "        text-align: right;\n",
       "    }\n",
       "</style>\n",
       "<table border=\"1\" class=\"dataframe\">\n",
       "  <thead>\n",
       "    <tr style=\"text-align: right;\">\n",
       "      <th></th>\n",
       "      <th>advertisement_id</th>\n",
       "      <th>action</th>\n",
       "    </tr>\n",
       "  </thead>\n",
       "  <tbody>\n",
       "    <tr>\n",
       "      <th>0</th>\n",
       "      <td>B</td>\n",
       "      <td>1</td>\n",
       "    </tr>\n",
       "    <tr>\n",
       "      <th>1</th>\n",
       "      <td>B</td>\n",
       "      <td>1</td>\n",
       "    </tr>\n",
       "    <tr>\n",
       "      <th>2</th>\n",
       "      <td>A</td>\n",
       "      <td>0</td>\n",
       "    </tr>\n",
       "    <tr>\n",
       "      <th>3</th>\n",
       "      <td>B</td>\n",
       "      <td>0</td>\n",
       "    </tr>\n",
       "    <tr>\n",
       "      <th>4</th>\n",
       "      <td>A</td>\n",
       "      <td>1</td>\n",
       "    </tr>\n",
       "  </tbody>\n",
       "</table>\n",
       "</div>"
      ],
      "text/plain": [
       "  advertisement_id  action\n",
       "0                B       1\n",
       "1                B       1\n",
       "2                A       0\n",
       "3                B       0\n",
       "4                A       1"
      ]
     },
     "metadata": {
      "tags": []
     },
     "execution_count": 17
    }
   ]
  },
  {
   "cell_type": "code",
   "metadata": {
    "id": "Ks36d5GtIGgu"
   },
   "source": [
    "df_a = df.loc[df['advertisement_id'] == 'A']\r\n",
    "df_b = df.loc[df['advertisement_id'] == 'B']"
   ],
   "execution_count": null,
   "outputs": []
  },
  {
   "cell_type": "code",
   "metadata": {
    "colab": {
     "base_uri": "https://localhost:8080/",
     "height": 297
    },
    "id": "DijDtvH8ISQH",
    "executionInfo": {
     "status": "ok",
     "timestamp": 1608735883157,
     "user_tz": 300,
     "elapsed": 612,
     "user": {
      "displayName": "Sebastian Lindskog",
      "photoUrl": "https://lh3.googleusercontent.com/a-/AOh14GhyYnTeqHJveHyKWSfut3osyn2YvoKkQXBJDk9W=s64",
      "userId": "08258996105361909584"
     }
    },
    "outputId": "deb6f2e5-cc49-4109-c9ff-46e905b2c465"
   },
   "source": [
    "df_a.describe()"
   ],
   "execution_count": null,
   "outputs": [
    {
     "output_type": "execute_result",
     "data": {
      "text/html": [
       "<div>\n",
       "<style scoped>\n",
       "    .dataframe tbody tr th:only-of-type {\n",
       "        vertical-align: middle;\n",
       "    }\n",
       "\n",
       "    .dataframe tbody tr th {\n",
       "        vertical-align: top;\n",
       "    }\n",
       "\n",
       "    .dataframe thead th {\n",
       "        text-align: right;\n",
       "    }\n",
       "</style>\n",
       "<table border=\"1\" class=\"dataframe\">\n",
       "  <thead>\n",
       "    <tr style=\"text-align: right;\">\n",
       "      <th></th>\n",
       "      <th>action</th>\n",
       "    </tr>\n",
       "  </thead>\n",
       "  <tbody>\n",
       "    <tr>\n",
       "      <th>count</th>\n",
       "      <td>1000.000000</td>\n",
       "    </tr>\n",
       "    <tr>\n",
       "      <th>mean</th>\n",
       "      <td>0.304000</td>\n",
       "    </tr>\n",
       "    <tr>\n",
       "      <th>std</th>\n",
       "      <td>0.460213</td>\n",
       "    </tr>\n",
       "    <tr>\n",
       "      <th>min</th>\n",
       "      <td>0.000000</td>\n",
       "    </tr>\n",
       "    <tr>\n",
       "      <th>25%</th>\n",
       "      <td>0.000000</td>\n",
       "    </tr>\n",
       "    <tr>\n",
       "      <th>50%</th>\n",
       "      <td>0.000000</td>\n",
       "    </tr>\n",
       "    <tr>\n",
       "      <th>75%</th>\n",
       "      <td>1.000000</td>\n",
       "    </tr>\n",
       "    <tr>\n",
       "      <th>max</th>\n",
       "      <td>1.000000</td>\n",
       "    </tr>\n",
       "  </tbody>\n",
       "</table>\n",
       "</div>"
      ],
      "text/plain": [
       "            action\n",
       "count  1000.000000\n",
       "mean      0.304000\n",
       "std       0.460213\n",
       "min       0.000000\n",
       "25%       0.000000\n",
       "50%       0.000000\n",
       "75%       1.000000\n",
       "max       1.000000"
      ]
     },
     "metadata": {
      "tags": []
     },
     "execution_count": 20
    }
   ]
  },
  {
   "cell_type": "code",
   "metadata": {
    "colab": {
     "base_uri": "https://localhost:8080/",
     "height": 297
    },
    "id": "EnE9N7enIX0H",
    "executionInfo": {
     "status": "ok",
     "timestamp": 1608735888024,
     "user_tz": 300,
     "elapsed": 438,
     "user": {
      "displayName": "Sebastian Lindskog",
      "photoUrl": "https://lh3.googleusercontent.com/a-/AOh14GhyYnTeqHJveHyKWSfut3osyn2YvoKkQXBJDk9W=s64",
      "userId": "08258996105361909584"
     }
    },
    "outputId": "ed2f3b43-7d3a-491a-fb32-7d66be205e39"
   },
   "source": [
    "df_b.describe()"
   ],
   "execution_count": null,
   "outputs": [
    {
     "output_type": "execute_result",
     "data": {
      "text/html": [
       "<div>\n",
       "<style scoped>\n",
       "    .dataframe tbody tr th:only-of-type {\n",
       "        vertical-align: middle;\n",
       "    }\n",
       "\n",
       "    .dataframe tbody tr th {\n",
       "        vertical-align: top;\n",
       "    }\n",
       "\n",
       "    .dataframe thead th {\n",
       "        text-align: right;\n",
       "    }\n",
       "</style>\n",
       "<table border=\"1\" class=\"dataframe\">\n",
       "  <thead>\n",
       "    <tr style=\"text-align: right;\">\n",
       "      <th></th>\n",
       "      <th>action</th>\n",
       "    </tr>\n",
       "  </thead>\n",
       "  <tbody>\n",
       "    <tr>\n",
       "      <th>count</th>\n",
       "      <td>1000.00000</td>\n",
       "    </tr>\n",
       "    <tr>\n",
       "      <th>mean</th>\n",
       "      <td>0.37200</td>\n",
       "    </tr>\n",
       "    <tr>\n",
       "      <th>std</th>\n",
       "      <td>0.48358</td>\n",
       "    </tr>\n",
       "    <tr>\n",
       "      <th>min</th>\n",
       "      <td>0.00000</td>\n",
       "    </tr>\n",
       "    <tr>\n",
       "      <th>25%</th>\n",
       "      <td>0.00000</td>\n",
       "    </tr>\n",
       "    <tr>\n",
       "      <th>50%</th>\n",
       "      <td>0.00000</td>\n",
       "    </tr>\n",
       "    <tr>\n",
       "      <th>75%</th>\n",
       "      <td>1.00000</td>\n",
       "    </tr>\n",
       "    <tr>\n",
       "      <th>max</th>\n",
       "      <td>1.00000</td>\n",
       "    </tr>\n",
       "  </tbody>\n",
       "</table>\n",
       "</div>"
      ],
      "text/plain": [
       "           action\n",
       "count  1000.00000\n",
       "mean      0.37200\n",
       "std       0.48358\n",
       "min       0.00000\n",
       "25%       0.00000\n",
       "50%       0.00000\n",
       "75%       1.00000\n",
       "max       1.00000"
      ]
     },
     "metadata": {
      "tags": []
     },
     "execution_count": 21
    }
   ]
  },
  {
   "cell_type": "code",
   "metadata": {
    "id": "AlM0BHOKIqqw"
   },
   "source": [
    "b = df_a['action'].values\r\n",
    "a = df_b['action'].values"
   ],
   "execution_count": null,
   "outputs": []
  },
  {
   "cell_type": "code",
   "metadata": {
    "colab": {
     "base_uri": "https://localhost:8080/"
    },
    "id": "zNpTc0m8IZC2",
    "executionInfo": {
     "status": "ok",
     "timestamp": 1608736274736,
     "user_tz": 300,
     "elapsed": 290,
     "user": {
      "displayName": "Sebastian Lindskog",
      "photoUrl": "https://lh3.googleusercontent.com/a-/AOh14GhyYnTeqHJveHyKWSfut3osyn2YvoKkQXBJDk9W=s64",
      "userId": "08258996105361909584"
     }
    },
    "outputId": "4bc31e3d-b0f2-4f0c-8796-000daaa8d8b7"
   },
   "source": [
    "N = len(a)\r\n",
    "var_a = a.var(ddof=1)\r\n",
    "var_b = b.var(ddof=1)\r\n",
    "s = np.sqrt((var_a + var_b) / 2)\r\n",
    "t = (a.mean() - b.mean()) / (s * np.sqrt(2.0 / N))\r\n",
    "df = 2 * N - 2\r\n",
    "p = 1 - stats.t.cdf(t, df=df)\r\n",
    "print(f\"t: {t}, p: {2 * p}\")\r\n",
    "\r\n",
    "t2, p2 = stats.ttest_ind(a, b)\r\n",
    "print(f\"t: {t2}, p: {2 * p}\")\r\n"
   ],
   "execution_count": null,
   "outputs": [
    {
     "output_type": "stream",
     "text": [
      "t: 3.221173213801978, p: 0.0012971905467125122\n",
      "t: 3.2211732138019786, p: 0.0012971905467125122\n"
     ],
     "name": "stdout"
    }
   ]
  },
  {
   "cell_type": "code",
   "metadata": {
    "colab": {
     "base_uri": "https://localhost:8080/"
    },
    "id": "C-CdSriJIqMA",
    "executionInfo": {
     "status": "ok",
     "timestamp": 1608736275391,
     "user_tz": 300,
     "elapsed": 317,
     "user": {
      "displayName": "Sebastian Lindskog",
      "photoUrl": "https://lh3.googleusercontent.com/a-/AOh14GhyYnTeqHJveHyKWSfut3osyn2YvoKkQXBJDk9W=s64",
      "userId": "08258996105361909584"
     }
    },
    "outputId": "c264c8b7-f22b-4f4a-bec4-07446ae443e2"
   },
   "source": [
    "stats.ks_2samp(a, b)"
   ],
   "execution_count": null,
   "outputs": [
    {
     "output_type": "execute_result",
     "data": {
      "text/plain": [
       "Ks_2sampResult(statistic=0.068, pvalue=0.01960232095219542)"
      ]
     },
     "metadata": {
      "tags": []
     },
     "execution_count": 30
    }
   ]
  },
  {
   "cell_type": "code",
   "metadata": {
    "colab": {
     "base_uri": "https://localhost:8080/"
    },
    "id": "vFoKYZOyJh6n",
    "executionInfo": {
     "status": "ok",
     "timestamp": 1608736329417,
     "user_tz": 300,
     "elapsed": 654,
     "user": {
      "displayName": "Sebastian Lindskog",
      "photoUrl": "https://lh3.googleusercontent.com/a-/AOh14GhyYnTeqHJveHyKWSfut3osyn2YvoKkQXBJDk9W=s64",
      "userId": "08258996105361909584"
     }
    },
    "outputId": "19df21c7-0695-4ff0-f520-de5ed13029dd"
   },
   "source": [
    "stats.kruskal(a, b)"
   ],
   "execution_count": null,
   "outputs": [
    {
     "output_type": "execute_result",
     "data": {
      "text/plain": [
       "KruskalResult(statistic=10.327517474390973, pvalue=0.0013106137059954806)"
      ]
     },
     "metadata": {
      "tags": []
     },
     "execution_count": 31
    }
   ]
  },
  {
   "cell_type": "code",
   "metadata": {
    "colab": {
     "base_uri": "https://localhost:8080/"
    },
    "id": "_uVRKFoTKEvm",
    "executionInfo": {
     "status": "ok",
     "timestamp": 1608736418762,
     "user_tz": 300,
     "elapsed": 366,
     "user": {
      "displayName": "Sebastian Lindskog",
      "photoUrl": "https://lh3.googleusercontent.com/a-/AOh14GhyYnTeqHJveHyKWSfut3osyn2YvoKkQXBJDk9W=s64",
      "userId": "08258996105361909584"
     }
    },
    "outputId": "d855146e-4389-4519-d382-a097e2b57498"
   },
   "source": [
    "stats.mannwhitneyu(a, b)"
   ],
   "execution_count": null,
   "outputs": [
    {
     "output_type": "execute_result",
     "data": {
      "text/plain": [
       "MannwhitneyuResult(statistic=466000.0, pvalue=0.0006554147079709661)"
      ]
     },
     "metadata": {
      "tags": []
     },
     "execution_count": 32
    }
   ]
  },
  {
   "cell_type": "markdown",
   "metadata": {
    "id": "L8LRBut-Kyfu"
   },
   "source": [
    "### Solution"
   ]
  },
  {
   "cell_type": "code",
   "metadata": {
    "colab": {
     "base_uri": "https://localhost:8080/"
    },
    "id": "FmxV14SVKalw",
    "executionInfo": {
     "status": "ok",
     "timestamp": 1608736537502,
     "user_tz": 300,
     "elapsed": 403,
     "user": {
      "displayName": "Sebastian Lindskog",
      "photoUrl": "https://lh3.googleusercontent.com/a-/AOh14GhyYnTeqHJveHyKWSfut3osyn2YvoKkQXBJDk9W=s64",
      "userId": "08258996105361909584"
     }
    },
    "outputId": "adc3df9f-7878-4f87-9e85-331b14585267"
   },
   "source": [
    "\r\n",
    "# built-in t-test:\r\n",
    "t, p = stats.ttest_ind(a, b)\r\n",
    "print(\"t:\\t\", t, \"p:\\t\", p)\r\n",
    "\r\n",
    "# welch's t-test:\r\n",
    "t, p = stats.ttest_ind(a, b, equal_var=False)\r\n",
    "print(\"Welch's t-test:\")\r\n",
    "print(\"t:\\t\", t, \"p:\\t\", p)\r\n",
    "\r\n",
    "# welch's t-test manual:\r\n",
    "N1 = len(a)\r\n",
    "s1_sq = a.var()\r\n",
    "N2 = len(b)\r\n",
    "s2_sq = b.var()\r\n",
    "t = (a.mean() - b.mean()) / np.sqrt(s1_sq / N1 + s2_sq / N2)\r\n",
    "\r\n",
    "nu1 = N1 - 1\r\n",
    "nu2 = N2 - 1\r\n",
    "df = (s1_sq / N1 + s2_sq / N2)**2 / ( (s1_sq*s1_sq) / (N1*N1 * nu1) + (s2_sq*s2_sq) / (N2*N2 * nu2) )\r\n",
    "p = (1 - stats.t.cdf(np.abs(t), df=df))*2\r\n",
    "print(\"Manual Welch t-test\")\r\n",
    "print(\"t:\\t\", t, \"p:\\t\", p)"
   ],
   "execution_count": null,
   "outputs": [
    {
     "output_type": "stream",
     "text": [
      "t:\t 3.2211732138019786 p:\t 0.0012971905467125246\n",
      "Welch's t-test:\n",
      "t:\t 3.2211732138019786 p:\t 0.0012972410374001632\n",
      "Manual Welch t-test\n",
      "t:\t 3.2227850093563326 p:\t 0.001290002009638913\n"
     ],
     "name": "stdout"
    }
   ]
  },
  {
   "cell_type": "code",
   "metadata": {
    "colab": {
     "base_uri": "https://localhost:8080/"
    },
    "id": "rJwqgF71K3nW",
    "executionInfo": {
     "status": "ok",
     "timestamp": 1608736766896,
     "user_tz": 300,
     "elapsed": 347,
     "user": {
      "displayName": "Sebastian Lindskog",
      "photoUrl": "https://lh3.googleusercontent.com/a-/AOh14GhyYnTeqHJveHyKWSfut3osyn2YvoKkQXBJDk9W=s64",
      "userId": "08258996105361909584"
     }
    },
    "outputId": "61e032a1-0d06-4e0f-f854-08c6e0ce10ca"
   },
   "source": [
    "# Built-in t-test:\r\n",
    "t, p = stats.ttest_ind(a, b)\r\n",
    "print(f\"t: {t}, p: {p}\")\r\n",
    "\r\n",
    "# Welch's t-test:\r\n",
    "t, p = stats.ttest_ind(a, b, equal_var=False)\r\n",
    "print(\"Welch's t-test:\")\r\n",
    "print(f\"t: {t}, p: {p}\")\r\n",
    "\r\n",
    "# Welch's t-test manual:\r\n",
    "N1 = len(a)\r\n",
    "s1_sq = a.var()\r\n",
    "N2 = len(b)\r\n",
    "s2_sq = b.var() \r\n",
    "t = (a.mean() - b.mean()) / np.sqrt(s1_sq / N1 + s2_sq / N2)\r\n",
    "\r\n",
    "nu1 = N1 - 1\r\n",
    "nu2 = N2 - 1\r\n",
    "df = (s1_sq / N1 + s2_sq / N2)**2 / ((s1_sq * s1_sq) / (N1 * N1 * nu1) + (s2_sq * s2_sq) / (N2 * N2 * nu2))\r\n",
    "p = (1 - stats.t.cdf(np.abs(t), df=df)) * 2 \r\n",
    "print(\"Manual Welch t-test:\")\r\n",
    "print(f\"t: {t}, p: {p}\")\r\n"
   ],
   "execution_count": null,
   "outputs": [
    {
     "output_type": "stream",
     "text": [
      "t: 3.2211732138019786, p: 0.0012971905467125246\n",
      "Welch's t-test:\n",
      "t: 3.2211732138019786, p: 0.0012972410374001632\n",
      "Manual Welch t-test:\n",
      "t: 3.2227850093563326, p: 0.001290002009638913\n"
     ],
     "name": "stdout"
    }
   ]
  },
  {
   "cell_type": "code",
   "metadata": {
    "id": "e8hntZ82Lvn-"
   },
   "source": [
    ""
   ],
   "execution_count": null,
   "outputs": []
  }
 ]
}