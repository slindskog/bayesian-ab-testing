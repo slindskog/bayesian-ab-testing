{
 "nbformat": 4,
 "nbformat_minor": 0,
 "metadata": {
  "colab": {
   "name": "cdfs_and_percentiles.ipynb",
   "provenance": [],
   "authorship_tag": "ABX9TyOkjm0iVayXtW43jPUu8U8C"
  },
  "kernelspec": {
   "name": "python3",
   "display_name": "Python 3"
  }
 },
 "cells": [
  {
   "cell_type": "code",
   "metadata": {
    "id": "9ZtEK4vZo7qN",
    "executionInfo": {
     "status": "ok",
     "timestamp": 1608660648286,
     "user_tz": 300,
     "elapsed": 643,
     "user": {
      "displayName": "Sebastian Lindskog",
      "photoUrl": "https://lh3.googleusercontent.com/a-/AOh14GhyYnTeqHJveHyKWSfut3osyn2YvoKkQXBJDk9W=s64",
      "userId": "08258996105361909584"
     }
    }
   },
   "source": [
    "import numpy as np\n",
    "from scipy.stats import norm\n",
    "import matplotlib.pyplot as plt\n",
    "\n",
    "np.random.seed(0)"
   ],
   "execution_count": 6,
   "outputs": []
  },
  {
   "cell_type": "code",
   "metadata": {
    "id": "haYzum2DpHtl",
    "executionInfo": {
     "status": "ok",
     "timestamp": 1608660648584,
     "user_tz": 300,
     "elapsed": 751,
     "user": {
      "displayName": "Sebastian Lindskog",
      "photoUrl": "https://lh3.googleusercontent.com/a-/AOh14GhyYnTeqHJveHyKWSfut3osyn2YvoKkQXBJDk9W=s64",
      "userId": "08258996105361909584"
     }
    }
   },
   "source": [
    "mu = 170\n",
    "sd = 7"
   ],
   "execution_count": 7,
   "outputs": []
  },
  {
   "cell_type": "code",
   "metadata": {
    "id": "fFEeD5xdpJdE",
    "executionInfo": {
     "status": "ok",
     "timestamp": 1608660648899,
     "user_tz": 300,
     "elapsed": 893,
     "user": {
      "displayName": "Sebastian Lindskog",
      "photoUrl": "https://lh3.googleusercontent.com/a-/AOh14GhyYnTeqHJveHyKWSfut3osyn2YvoKkQXBJDk9W=s64",
      "userId": "08258996105361909584"
     }
    }
   },
   "source": [
    "# Generate samples from our distribution\n",
    "x = norm.rvs(loc=mu, scale=sd, size=100)"
   ],
   "execution_count": 8,
   "outputs": []
  },
  {
   "cell_type": "code",
   "metadata": {
    "colab": {
     "base_uri": "https://localhost:8080/"
    },
    "id": "gv3CtCC1pQNt",
    "executionInfo": {
     "status": "ok",
     "timestamp": 1608660649385,
     "user_tz": 300,
     "elapsed": 1223,
     "user": {
      "displayName": "Sebastian Lindskog",
      "photoUrl": "https://lh3.googleusercontent.com/a-/AOh14GhyYnTeqHJveHyKWSfut3osyn2YvoKkQXBJDk9W=s64",
      "userId": "08258996105361909584"
     }
    },
    "outputId": "9c052058-a4e1-48ec-cd4d-c697db2db729"
   },
   "source": [
    "# Maximum likelihood mean\n",
    "x.mean()"
   ],
   "execution_count": 9,
   "outputs": [
    {
     "output_type": "execute_result",
     "data": {
      "text/plain": [
       "170.41865610874137"
      ]
     },
     "metadata": {
      "tags": []
     },
     "execution_count": 9
    }
   ]
  },
  {
   "cell_type": "code",
   "metadata": {
    "colab": {
     "base_uri": "https://localhost:8080/"
    },
    "id": "abe9Q8hKpSpc",
    "executionInfo": {
     "status": "ok",
     "timestamp": 1608660649386,
     "user_tz": 300,
     "elapsed": 1048,
     "user": {
      "displayName": "Sebastian Lindskog",
      "photoUrl": "https://lh3.googleusercontent.com/a-/AOh14GhyYnTeqHJveHyKWSfut3osyn2YvoKkQXBJDk9W=s64",
      "userId": "08258996105361909584"
     }
    },
    "outputId": "769057cd-16e0-4ef0-ef7d-ed28f3867146"
   },
   "source": [
    "# Maximum likelihood variance\n",
    "x.std()"
   ],
   "execution_count": 10,
   "outputs": [
    {
     "output_type": "execute_result",
     "data": {
      "text/plain": [
       "7.055175713016057"
      ]
     },
     "metadata": {
      "tags": []
     },
     "execution_count": 10
    }
   ]
  },
  {
   "cell_type": "code",
   "metadata": {
    "colab": {
     "base_uri": "https://localhost:8080/"
    },
    "id": "RhihH6A_pVLs",
    "executionInfo": {
     "status": "ok",
     "timestamp": 1608660670612,
     "user_tz": 300,
     "elapsed": 673,
     "user": {
      "displayName": "Sebastian Lindskog",
      "photoUrl": "https://lh3.googleusercontent.com/a-/AOh14GhyYnTeqHJveHyKWSfut3osyn2YvoKkQXBJDk9W=s64",
      "userId": "08258996105361909584"
     }
    },
    "outputId": "0b0568d6-5290-44f8-e1b5-2b8ab7825a00"
   },
   "source": [
    "((x - x.mean())**2).mean()"
   ],
   "execution_count": 11,
   "outputs": [
    {
     "output_type": "execute_result",
     "data": {
      "text/plain": [
       "49.77550434153163"
      ]
     },
     "metadata": {
      "tags": []
     },
     "execution_count": 11
    }
   ]
  },
  {
   "cell_type": "code",
   "metadata": {
    "colab": {
     "base_uri": "https://localhost:8080/"
    },
    "id": "oPi-e_bzpdSU",
    "executionInfo": {
     "status": "ok",
     "timestamp": 1608660682842,
     "user_tz": 300,
     "elapsed": 634,
     "user": {
      "displayName": "Sebastian Lindskog",
      "photoUrl": "https://lh3.googleusercontent.com/a-/AOh14GhyYnTeqHJveHyKWSfut3osyn2YvoKkQXBJDk9W=s64",
      "userId": "08258996105361909584"
     }
    },
    "outputId": "bfe3d16d-ebf3-4cf8-c11c-f2917a48a5ac"
   },
   "source": [
    "# Maximum likelihood std\n",
    "x.std()"
   ],
   "execution_count": 12,
   "outputs": [
    {
     "output_type": "execute_result",
     "data": {
      "text/plain": [
       "7.055175713016057"
      ]
     },
     "metadata": {
      "tags": []
     },
     "execution_count": 12
    }
   ]
  },
  {
   "cell_type": "code",
   "metadata": {
    "colab": {
     "base_uri": "https://localhost:8080/"
    },
    "id": "wImt9Ky6pgV8",
    "executionInfo": {
     "status": "ok",
     "timestamp": 1608660694074,
     "user_tz": 300,
     "elapsed": 609,
     "user": {
      "displayName": "Sebastian Lindskog",
      "photoUrl": "https://lh3.googleusercontent.com/a-/AOh14GhyYnTeqHJveHyKWSfut3osyn2YvoKkQXBJDk9W=s64",
      "userId": "08258996105361909584"
     }
    },
    "outputId": "3dd396e3-5e9d-4378-c2b6-68cbbdc129ab"
   },
   "source": [
    "# Unbiased variance - ddof: delta degrees of freedom\n",
    "x.var(ddof=1)"
   ],
   "execution_count": 13,
   "outputs": [
    {
     "output_type": "execute_result",
     "data": {
      "text/plain": [
       "50.278287213668314"
      ]
     },
     "metadata": {
      "tags": []
     },
     "execution_count": 13
    }
   ]
  },
  {
   "cell_type": "code",
   "metadata": {
    "colab": {
     "base_uri": "https://localhost:8080/"
    },
    "id": "FJ2gm3ubpjGr",
    "executionInfo": {
     "status": "ok",
     "timestamp": 1608661169753,
     "user_tz": 300,
     "elapsed": 597,
     "user": {
      "displayName": "Sebastian Lindskog",
      "photoUrl": "https://lh3.googleusercontent.com/a-/AOh14GhyYnTeqHJveHyKWSfut3osyn2YvoKkQXBJDk9W=s64",
      "userId": "08258996105361909584"
     }
    },
    "outputId": "8695fe2e-d862-4c7c-e5ce-0f1fd62cedd9"
   },
   "source": [
    "((x - x.mean())**2).sum() / (len(x) - 1)"
   ],
   "execution_count": 14,
   "outputs": [
    {
     "output_type": "execute_result",
     "data": {
      "text/plain": [
       "50.278287213668314"
      ]
     },
     "metadata": {
      "tags": []
     },
     "execution_count": 14
    }
   ]
  },
  {
   "cell_type": "code",
   "metadata": {
    "colab": {
     "base_uri": "https://localhost:8080/"
    },
    "id": "WbxukMdwrXPU",
    "executionInfo": {
     "status": "ok",
     "timestamp": 1608661193668,
     "user_tz": 300,
     "elapsed": 1328,
     "user": {
      "displayName": "Sebastian Lindskog",
      "photoUrl": "https://lh3.googleusercontent.com/a-/AOh14GhyYnTeqHJveHyKWSfut3osyn2YvoKkQXBJDk9W=s64",
      "userId": "08258996105361909584"
     }
    },
    "outputId": "5d41a637-e466-4358-952b-651873861912"
   },
   "source": [
    "# unbiased std\r\n",
    "x.std(ddof=1)"
   ],
   "execution_count": 15,
   "outputs": [
    {
     "output_type": "execute_result",
     "data": {
      "text/plain": [
       "7.090718384879512"
      ]
     },
     "metadata": {
      "tags": []
     },
     "execution_count": 15
    }
   ]
  },
  {
   "cell_type": "code",
   "metadata": {
    "colab": {
     "base_uri": "https://localhost:8080/"
    },
    "id": "LoJj6p_crc5k",
    "executionInfo": {
     "status": "ok",
     "timestamp": 1608661235896,
     "user_tz": 300,
     "elapsed": 1092,
     "user": {
      "displayName": "Sebastian Lindskog",
      "photoUrl": "https://lh3.googleusercontent.com/a-/AOh14GhyYnTeqHJveHyKWSfut3osyn2YvoKkQXBJDk9W=s64",
      "userId": "08258996105361909584"
     }
    },
    "outputId": "b6fcefe5-afbb-4800-b8a7-b0cba47f1268"
   },
   "source": [
    "# at what height are you in the 95th percentile?\r\n",
    "norm.ppf(0.95, loc=mu, scale=sd)"
   ],
   "execution_count": 16,
   "outputs": [
    {
     "output_type": "execute_result",
     "data": {
      "text/plain": [
       "181.5139753886603"
      ]
     },
     "metadata": {
      "tags": []
     },
     "execution_count": 16
    }
   ]
  },
  {
   "cell_type": "code",
   "metadata": {
    "colab": {
     "base_uri": "https://localhost:8080/"
    },
    "id": "o1GKyr-ErnJr",
    "executionInfo": {
     "status": "ok",
     "timestamp": 1608661257853,
     "user_tz": 300,
     "elapsed": 713,
     "user": {
      "displayName": "Sebastian Lindskog",
      "photoUrl": "https://lh3.googleusercontent.com/a-/AOh14GhyYnTeqHJveHyKWSfut3osyn2YvoKkQXBJDk9W=s64",
      "userId": "08258996105361909584"
     }
    },
    "outputId": "01c05b6d-5084-4e79-8e22-40a37de6708e"
   },
   "source": [
    "# if you are 160 cm tall, what percentile are you in?\r\n",
    "norm.cdf(160, loc=mu, scale=sd)"
   ],
   "execution_count": 17,
   "outputs": [
    {
     "output_type": "execute_result",
     "data": {
      "text/plain": [
       "0.07656372550983476"
      ]
     },
     "metadata": {
      "tags": []
     },
     "execution_count": 17
    }
   ]
  },
  {
   "cell_type": "code",
   "metadata": {
    "colab": {
     "base_uri": "https://localhost:8080/"
    },
    "id": "FJ4-V24krseD",
    "executionInfo": {
     "status": "ok",
     "timestamp": 1608661294400,
     "user_tz": 300,
     "elapsed": 666,
     "user": {
      "displayName": "Sebastian Lindskog",
      "photoUrl": "https://lh3.googleusercontent.com/a-/AOh14GhyYnTeqHJveHyKWSfut3osyn2YvoKkQXBJDk9W=s64",
      "userId": "08258996105361909584"
     }
    },
    "outputId": "4a48c9bb-d057-4e74-97b5-7de7bcf670ce"
   },
   "source": [
    "# if you are 180 cm tall what is the probability that someone is taller than you?\r\n",
    "1 - norm.cdf(180, loc=mu, scale=sd)"
   ],
   "execution_count": 18,
   "outputs": [
    {
     "output_type": "execute_result",
     "data": {
      "text/plain": [
       "0.07656372550983481"
      ]
     },
     "metadata": {
      "tags": []
     },
     "execution_count": 18
    }
   ]
  },
  {
   "cell_type": "code",
   "metadata": {
    "colab": {
     "base_uri": "https://localhost:8080/"
    },
    "id": "daGocBVBr1p8",
    "executionInfo": {
     "status": "ok",
     "timestamp": 1608661452536,
     "user_tz": 300,
     "elapsed": 625,
     "user": {
      "displayName": "Sebastian Lindskog",
      "photoUrl": "https://lh3.googleusercontent.com/a-/AOh14GhyYnTeqHJveHyKWSfut3osyn2YvoKkQXBJDk9W=s64",
      "userId": "08258996105361909584"
     }
    },
    "outputId": "40a969c7-f29b-461b-bd42-32fc80ee0cf6"
   },
   "source": [
    "# Survival function\r\n",
    "norm.sf(180, loc=mu, scale=sd)"
   ],
   "execution_count": 20,
   "outputs": [
    {
     "output_type": "execute_result",
     "data": {
      "text/plain": [
       "0.07656372550983476"
      ]
     },
     "metadata": {
      "tags": []
     },
     "execution_count": 20
    }
   ]
  },
  {
   "cell_type": "code",
   "metadata": {
    "id": "C2SCnHxHsI-T"
   },
   "source": [
    ""
   ],
   "execution_count": null,
   "outputs": []
  }
 ]
}